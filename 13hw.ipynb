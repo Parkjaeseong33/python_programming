{
  "nbformat": 4,
  "nbformat_minor": 0,
  "metadata": {
    "colab": {
      "provenance": [],
      "name": "13hw.ipynb",
      "authorship_tag": "ABX9TyOeEXkhcnayHWdlIlpTBh3b",
      "include_colab_link": true
    },
    "kernelspec": {
      "name": "python3",
      "display_name": "Python 3"
    },
    "language_info": {
      "name": "python"
    }
  },
  "cells": [
    {
      "cell_type": "markdown",
      "metadata": {
        "id": "view-in-github",
        "colab_type": "text"
      },
      "source": [
        "<a href=\"https://colab.research.google.com/github/Parkjaeseong33/python_programming/blob/main/13hw.ipynb\" target=\"_parent\"><img src=\"https://colab.research.google.com/assets/colab-badge.svg\" alt=\"Open In Colab\"/></a>"
      ]
    },
    {
      "cell_type": "code",
      "execution_count": null,
      "metadata": {
        "id": "sI-FuUk3epGI"
      },
      "outputs": [],
      "source": [
        "import xml.etree.ElementTree as et\n",
        "tree = et.ElementTree(file=\"menu(1).xml\")\n",
        "root = tree.getroot()\n",
        "\n",
        "print(root.tag)"
      ]
    },
    {
      "cell_type": "code",
      "source": [
        "for child in root:\n",
        "  print(\"tag:\", child.tag, \"attributes\", child,attrib)\n",
        "  for granfchild in child:\n",
        "    Print(\"/ttag\" , granfchild.tag, \"attributes:\" , frandchild.attrib)"
      ],
      "metadata": {
        "id": "I9g5K3lZhKwb"
      },
      "execution_count": null,
      "outputs": []
    },
    {
      "cell_type": "code",
      "source": [
        "print(root[0])\n",
        "print(root[0]).get(\"hours\")\n",
        "print(root[0]),keys()) \n",
        "print(toot[0]).items())     "
      ],
      "metadata": {
        "id": "h5sxjjJAh1Is"
      },
      "execution_count": null,
      "outputs": []
    },
    {
      "cell_type": "code",
      "source": [
        "pirnt(root[0[.findall(\"item\")]])\n",
        "\n",
        "for item in root[0].findall('item'):\n",
        "  print(item.get('price'))\n",
        "  print(item,tecxt)\n"
      ],
      "metadata": {
        "id": "Z6HXtV_2ipbI"
      },
      "execution_count": null,
      "outputs": []
    },
    {
      "cell_type": "code",
      "source": [],
      "metadata": {
        "id": "iuW861ANja3_"
      },
      "execution_count": null,
      "outputs": []
    }
  ]
}