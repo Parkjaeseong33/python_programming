{
  "nbformat": 4,
  "nbformat_minor": 0,
  "metadata": {
    "colab": {
      "provenance": [],
      "authorship_tag": "ABX9TyMAIs3cAxNZ7+C3baFxCItI",
      "include_colab_link": true
    },
    "kernelspec": {
      "name": "python3",
      "display_name": "Python 3"
    },
    "language_info": {
      "name": "python"
    }
  },
  "cells": [
    {
      "cell_type": "markdown",
      "metadata": {
        "id": "view-in-github",
        "colab_type": "text"
      },
      "source": [
        "<a href=\"https://colab.research.google.com/github/Parkjaeseong33/python_programming/blob/main/Untitled13.ipynb\" target=\"_parent\"><img src=\"https://colab.research.google.com/assets/colab-badge.svg\" alt=\"Open In Colab\"/></a>"
      ]
    },
    {
      "cell_type": "code",
      "execution_count": 1,
      "metadata": {
        "id": "atTrpG3tIEa9"
      },
      "outputs": [],
      "source": [
        "#2023 석사 박재성 9주차 HW\n",
        "number_list= []\n",
        "number_list.append(1) \n",
        "number_list.append(2) \n",
        "number_list.append(3) \n",
        "number_list.append(4) \n",
        "number_list.append(5) "
      ]
    },
    {
      "cell_type": "code",
      "source": [
        "number_list= []\n",
        "for number in range(1,6):\n",
        "  number_list.append(number)\n",
        "  number_list"
      ],
      "metadata": {
        "id": "zgCQD4DnJx-_"
      },
      "execution_count": 13,
      "outputs": []
    },
    {
      "cell_type": "code",
      "source": [
        "number_list = list(range(1,6))\n",
        "number_list\n"
      ],
      "metadata": {
        "colab": {
          "base_uri": "https://localhost:8080/"
        },
        "id": "85qLkWfJKC9d",
        "outputId": "d406a896-87d8-4dbe-ad13-f2a04f15e459"
      },
      "execution_count": 10,
      "outputs": [
        {
          "output_type": "execute_result",
          "data": {
            "text/plain": [
              "[1, 2, 3, 4, 5]"
            ]
          },
          "metadata": {},
          "execution_count": 10
        }
      ]
    },
    {
      "cell_type": "code",
      "source": [
        "unmber_list = [number for number in range(1,6)]\n",
        "unmber_list"
      ],
      "metadata": {
        "colab": {
          "base_uri": "https://localhost:8080/"
        },
        "id": "ptZX3iOzKQSG",
        "outputId": "dd12a604-084c-4057-cbef-277bf59f7144"
      },
      "execution_count": 8,
      "outputs": [
        {
          "output_type": "execute_result",
          "data": {
            "text/plain": [
              "[1, 2, 3, 4, 5]"
            ]
          },
          "metadata": {},
          "execution_count": 8
        }
      ]
    },
    {
      "cell_type": "code",
      "source": [
        "unmber_list = [number-1 for number in range(1,6)]\n",
        "unmber_list"
      ],
      "metadata": {
        "colab": {
          "base_uri": "https://localhost:8080/"
        },
        "id": "2UGATZnEKtek",
        "outputId": "7b678849-023a-494c-ad33-cf9f1a41b803"
      },
      "execution_count": 14,
      "outputs": [
        {
          "output_type": "execute_result",
          "data": {
            "text/plain": [
              "[0, 1, 2, 3, 4]"
            ]
          },
          "metadata": {},
          "execution_count": 14
        }
      ]
    },
    {
      "cell_type": "code",
      "source": [
        "unmber_list = [number for number in range(1,6) if number % 2 ==1]\n",
        "unmber_list"
      ],
      "metadata": {
        "colab": {
          "base_uri": "https://localhost:8080/"
        },
        "id": "yYRdw7TNLWBZ",
        "outputId": "622cc78f-dd4e-4d43-da81-1438b860c24a"
      },
      "execution_count": 15,
      "outputs": [
        {
          "output_type": "execute_result",
          "data": {
            "text/plain": [
              "[1, 3, 5]"
            ]
          },
          "metadata": {},
          "execution_count": 15
        }
      ]
    },
    {
      "cell_type": "code",
      "source": [
        "a_list = []\n",
        "for number in range(1,6):\n",
        "  if number%2 == 1 :\n",
        "    a_list.append(number)\n",
        "\n",
        "a_list"
      ],
      "metadata": {
        "colab": {
          "base_uri": "https://localhost:8080/"
        },
        "id": "QvOZR-3JLmFg",
        "outputId": "88fd828a-cbda-4942-bde1-f879beae2944"
      },
      "execution_count": 17,
      "outputs": [
        {
          "output_type": "execute_result",
          "data": {
            "text/plain": [
              "[1, 3, 5]"
            ]
          },
          "metadata": {},
          "execution_count": 17
        }
      ]
    },
    {
      "cell_type": "code",
      "source": [
        "from os import set_inheritable\n",
        "sentence = [\"I\",\"LOVE\",\"PYTON\",\"SOOOOOO\",\"MUCH!!\"]\n",
        "sentence"
      ],
      "metadata": {
        "colab": {
          "base_uri": "https://localhost:8080/"
        },
        "id": "v556bMPbMEvk",
        "outputId": "36282d0d-4f9b-45fa-fc91-6a73adc0711b"
      },
      "execution_count": 18,
      "outputs": [
        {
          "output_type": "execute_result",
          "data": {
            "text/plain": [
              "['I', 'LOVE', 'PYTON', 'SOOOOOO', 'MUCH!!']"
            ]
          },
          "metadata": {},
          "execution_count": 18
        }
      ]
    },
    {
      "cell_type": "code",
      "source": [
        "[word.lower() for word in sentence]\n"
      ],
      "metadata": {
        "colab": {
          "base_uri": "https://localhost:8080/"
        },
        "id": "iGyP9_VeMhN7",
        "outputId": "f05849bb-9505-49b3-9cb5-e15194cc3215"
      },
      "execution_count": 27,
      "outputs": [
        {
          "output_type": "execute_result",
          "data": {
            "text/plain": [
              "['i', 'love', 'pyton', 'soooooo', 'much!!']"
            ]
          },
          "metadata": {},
          "execution_count": 27
        }
      ]
    },
    {
      "cell_type": "code",
      "source": [
        "[word for word in sentence if len(word) > 6]\n"
      ],
      "metadata": {
        "colab": {
          "base_uri": "https://localhost:8080/"
        },
        "id": "z8AH6hqkMrYz",
        "outputId": "e1b14e7a-f223-4eab-ffdb-206614513405"
      },
      "execution_count": 26,
      "outputs": [
        {
          "output_type": "execute_result",
          "data": {
            "text/plain": [
              "['SOOOOOO']"
            ]
          },
          "metadata": {},
          "execution_count": 26
        }
      ]
    },
    {
      "cell_type": "code",
      "source": [
        "[(x,x**2,x**3) for x in range(10)]\n"
      ],
      "metadata": {
        "colab": {
          "base_uri": "https://localhost:8080/"
        },
        "id": "Ut45NzTwM3Mo",
        "outputId": "15a8ccfb-a112-40a8-8451-f369ce471091"
      },
      "execution_count": 25,
      "outputs": [
        {
          "output_type": "execute_result",
          "data": {
            "text/plain": [
              "[(0, 0, 0),\n",
              " (1, 1, 1),\n",
              " (2, 4, 8),\n",
              " (3, 9, 27),\n",
              " (4, 16, 64),\n",
              " (5, 25, 125),\n",
              " (6, 36, 216),\n",
              " (7, 49, 343),\n",
              " (8, 64, 512),\n",
              " (9, 81, 729)]"
            ]
          },
          "metadata": {},
          "execution_count": 25
        }
      ]
    },
    {
      "cell_type": "code",
      "source": [
        "[(i,j) for i in range(5) for j in range(i)]\n"
      ],
      "metadata": {
        "colab": {
          "base_uri": "https://localhost:8080/"
        },
        "id": "DBLvSVG3Zs1r",
        "outputId": "8774c75e-83b3-4eae-cdfa-aed5e130adf4"
      },
      "execution_count": 29,
      "outputs": [
        {
          "output_type": "execute_result",
          "data": {
            "text/plain": [
              "[(1, 0),\n",
              " (2, 0),\n",
              " (2, 1),\n",
              " (3, 0),\n",
              " (3, 1),\n",
              " (3, 2),\n",
              " (4, 0),\n",
              " (4, 1),\n",
              " (4, 2),\n",
              " (4, 3)]"
            ]
          },
          "metadata": {},
          "execution_count": 29
        }
      ]
    },
    {
      "cell_type": "code",
      "source": [
        "word = 'letters'\n",
        "letter_counts= {letter: word.count(letter) for letter in word}\n",
        "word"
      ],
      "metadata": {
        "colab": {
          "base_uri": "https://localhost:8080/",
          "height": 35
        },
        "id": "Wh1nJ9lUZ15K",
        "outputId": "39a55847-db17-4548-e033-424c9ba66ea4"
      },
      "execution_count": 33,
      "outputs": [
        {
          "output_type": "execute_result",
          "data": {
            "text/plain": [
              "'letters'"
            ],
            "application/vnd.google.colaboratory.intrinsic+json": {
              "type": "string"
            }
          },
          "metadata": {},
          "execution_count": 33
        }
      ]
    },
    {
      "cell_type": "code",
      "source": [
        "word = 'letters'\n",
        "letter_counts= {letter: word.count(letter) for letter in word}\n",
        "letter_counts"
      ],
      "metadata": {
        "colab": {
          "base_uri": "https://localhost:8080/"
        },
        "id": "1NuqNmasaKCH",
        "outputId": "09c68478-b56e-43ed-a7df-edc6b3a50f1b"
      },
      "execution_count": 36,
      "outputs": [
        {
          "output_type": "execute_result",
          "data": {
            "text/plain": [
              "{'l': 1, 'e': 2, 't': 2, 'r': 1, 's': 1}"
            ]
          },
          "metadata": {},
          "execution_count": 36
        }
      ]
    },
    {
      "cell_type": "code",
      "source": [
        "word = 'letters'\n",
        "letter_counts= {letter: word.count(letter) for letter in set(word)}\n",
        "letter_counts\n"
      ],
      "metadata": {
        "colab": {
          "base_uri": "https://localhost:8080/"
        },
        "id": "x96tbj5jaO8u",
        "outputId": "f549e131-e53b-478e-f3c7-8eb9ecff9ce7"
      },
      "execution_count": 37,
      "outputs": [
        {
          "output_type": "execute_result",
          "data": {
            "text/plain": [
              "{'r': 1, 'e': 2, 't': 2, 's': 1, 'l': 1}"
            ]
          },
          "metadata": {},
          "execution_count": 37
        }
      ]
    },
    {
      "cell_type": "code",
      "source": [
        "a_set= {number for number in range(1,6) if number % 3 == 1}\n",
        "a_set"
      ],
      "metadata": {
        "colab": {
          "base_uri": "https://localhost:8080/"
        },
        "id": "StmebkKNagU6",
        "outputId": "9d2ad760-9c0c-4e4c-8322-29be85e28383"
      },
      "execution_count": 40,
      "outputs": [
        {
          "output_type": "execute_result",
          "data": {
            "text/plain": [
              "{1, 4}"
            ]
          },
          "metadata": {},
          "execution_count": 40
        }
      ]
    },
    {
      "cell_type": "code",
      "source": [
        "days = ['Monday', 'Tuesday', 'Wednesday']\n",
        "fruits = ['banana', 'orange', 'peach']\n",
        "drinks = ['coffee', 'tea', 'beer']\n",
        "desserts = ['tiramisu', 'ice cream', 'pie', 'pudding']\n",
        "\n",
        "for day, fruit, drink, dessert in zip(days, fruits, drinks, desserts):\n",
        "  print(day, \": drink\", drink, \"-eat\", fruit, \"-enjoy\", dessert)"
      ],
      "metadata": {
        "colab": {
          "base_uri": "https://localhost:8080/"
        },
        "id": "e4hVlsbWaxoO",
        "outputId": "a31ed9c1-8cc6-436b-e46a-2d229e7a0cfc"
      },
      "execution_count": 41,
      "outputs": [
        {
          "output_type": "stream",
          "name": "stdout",
          "text": [
            "Monday : drink coffee -eat banana -enjoy tiramisu\n",
            "Tuesday : drink tea -eat orange -enjoy ice cream\n",
            "Wednesday : drink beer -eat peach -enjoy pie\n"
          ]
        }
      ]
    },
    {
      "cell_type": "code",
      "source": [
        "english= 'Monday', 'Tuesday', 'Wednesday'\n",
        "french= 'Lundi', 'Mardi', 'Mercredi'\n",
        "\n",
        "list( zip(english, french) )#[('Monday', 'Lundi'), ('Tuesday', 'Mardi'), ('Wednesday', 'Mercredi')]\n",
        "dict( zip(english, french) )#{'Monday': 'Lundi', 'Tuesday': 'Mardi', 'Wednesday': 'Mercredi'}"
      ],
      "metadata": {
        "colab": {
          "base_uri": "https://localhost:8080/"
        },
        "id": "-4RJvtqDdnnh",
        "outputId": "19ee8928-cd21-425f-c0c6-0942cbde9ca6"
      },
      "execution_count": 42,
      "outputs": [
        {
          "output_type": "execute_result",
          "data": {
            "text/plain": [
              "{'Monday': 'Lundi', 'Tuesday': 'Mardi', 'Wednesday': 'Mercredi'}"
            ]
          },
          "metadata": {},
          "execution_count": 42
        }
      ]
    },
    {
      "cell_type": "code",
      "source": [
        "\n",
        "def menu(wine, entree, dessert):\n",
        "  return {'wine': wine, 'entree': entree, 'dessert': dessert}\n",
        "  \n",
        "   menu('chardonnay', 'chicken', 'cake')\n",
        "   {'wine': 'chardonnay', 'entree': 'chicken', 'dessert': 'cake'}\n"
      ],
      "metadata": {
        "colab": {
          "base_uri": "https://localhost:8080/",
          "height": 135
        },
        "id": "eyMkzqRTdyiK",
        "outputId": "ca2e7dfe-0a07-4d55-954f-f6cb7b3933bd"
      },
      "execution_count": 45,
      "outputs": [
        {
          "output_type": "error",
          "ename": "IndentationError",
          "evalue": "ignored",
          "traceback": [
            "\u001b[0;36m  File \u001b[0;32m\"<ipython-input-45-451c0432e461>\"\u001b[0;36m, line \u001b[0;32m4\u001b[0m\n\u001b[0;31m    menu('chardonnay', 'chicken', 'cake')\u001b[0m\n\u001b[0m    ^\u001b[0m\n\u001b[0;31mIndentationError\u001b[0m\u001b[0;31m:\u001b[0m unexpected indent\n"
          ]
        }
      ]
    },
    {
      "cell_type": "code",
      "source": [
        "# wine, entree, dessert를받아서딕셔너리로만들어반환하는함수\n",
        "def menu(wine, entree, dessert):\n",
        "  return {'wine': wine, 'entree': entree, 'dessert': dessert}"
      ],
      "metadata": {
        "id": "t1l0R24peUGy"
      },
      "execution_count": 46,
      "outputs": []
    },
    {
      "cell_type": "code",
      "source": [
        ">>> menu(entree='beef', dessert='bagel', wine='bordeaux’)\n",
        "{'dessert': 'bagel', 'wine': 'bordeaux', 'entree': 'beef'}"
      ],
      "metadata": {
        "colab": {
          "base_uri": "https://localhost:8080/",
          "height": 135
        },
        "id": "nkixpf-Meoal",
        "outputId": "5a11f8a9-43a5-4d4b-c14d-b69d175f5a1d"
      },
      "execution_count": 47,
      "outputs": [
        {
          "output_type": "error",
          "ename": "SyntaxError",
          "evalue": "ignored",
          "traceback": [
            "\u001b[0;36m  File \u001b[0;32m\"<ipython-input-47-d85f0418664a>\"\u001b[0;36m, line \u001b[0;32m1\u001b[0m\n\u001b[0;31m    menu(entree='beef', dessert='bagel', wine='bordeaux’)\u001b[0m\n\u001b[0m                                              ^\u001b[0m\n\u001b[0;31mSyntaxError\u001b[0m\u001b[0;31m:\u001b[0m unterminated string literal (detected at line 1)\n"
          ]
        }
      ]
    },
    {
      "cell_type": "code",
      "source": [
        "def menu(wine, entree, dessert='pudding'):\n",
        "  return {'wine': wine, 'entree': entree, 'dessert': dessert}"
      ],
      "metadata": {
        "id": "nMKfdOJxeudH"
      },
      "execution_count": 60,
      "outputs": []
    },
    {
      "cell_type": "code",
      "source": [
        "def menu (price, wine= 'chardonnay', entree='chicken',dessert='pudding'):\n",
        "  return {'price': price, 'wine': wine, 'entree': entree, 'dessert': dessert}"
      ],
      "metadata": {
        "id": "GVffjN51fBWq"
      },
      "execution_count": 61,
      "outputs": []
    },
    {
      "cell_type": "code",
      "source": [
        "def echo(anything):\n",
        "  'echo returns its input argument'\n",
        "  return anything"
      ],
      "metadata": {
        "id": "i1usB-Ynfh8S"
      },
      "execution_count": 63,
      "outputs": []
    },
    {
      "cell_type": "code",
      "source": [
        "def print_if_true(thing, check):\n",
        "  \"\"\"Prints the first argument if a second argument is true.The operation is:1. Check whether the *second* argument is true.2. If it is, print the *first* argument.\"\"\"\n",
        "  if check:print(thing)\n"
      ],
      "metadata": {
        "id": "Xm90lAkGfsxc"
      },
      "execution_count": 65,
      "outputs": []
    },
    {
      "cell_type": "code",
      "source": [
        "help()\n"
      ],
      "metadata": {
        "colab": {
          "base_uri": "https://localhost:8080/"
        },
        "id": "bJKE72Ejf3J6",
        "outputId": "adeb1ed7-a9fc-4e66-959e-422676e3ba03"
      },
      "execution_count": null,
      "outputs": [
        {
          "output_type": "stream",
          "name": "stdout",
          "text": [
            "\n",
            "Welcome to Python 3.10's help utility!\n",
            "\n",
            "If this is your first time using Python, you should definitely check out\n",
            "the tutorial on the internet at https://docs.python.org/3.10/tutorial/.\n",
            "\n",
            "Enter the name of any module, keyword, or topic to get help on writing\n",
            "Python programs and using Python modules.  To quit this help utility and\n",
            "return to the interpreter, just type \"quit\".\n",
            "\n",
            "To get a list of available modules, keywords, symbols, or topics, type\n",
            "\"modules\", \"keywords\", \"symbols\", or \"topics\".  Each module also comes\n",
            "with a one-line summary of what it does; to list the modules whose name\n",
            "or summary contain a given string such as \"spam\", type \"modules spam\".\n",
            "\n"
          ]
        }
      ]
    },
    {
      "cell_type": "code",
      "source": [],
      "metadata": {
        "id": "MFkwhGxdf6CF"
      },
      "execution_count": null,
      "outputs": []
    }
  ]
}