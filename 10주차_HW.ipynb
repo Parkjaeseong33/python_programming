{
  "nbformat": 4,
  "nbformat_minor": 0,
  "metadata": {
    "colab": {
      "provenance": [],
      "authorship_tag": "ABX9TyNqle4wT6eaWqlnA14+nwmX",
      "include_colab_link": true
    },
    "kernelspec": {
      "name": "python3",
      "display_name": "Python 3"
    },
    "language_info": {
      "name": "python"
    }
  },
  "cells": [
    {
      "cell_type": "markdown",
      "metadata": {
        "id": "view-in-github",
        "colab_type": "text"
      },
      "source": [
        "<a href=\"https://colab.research.google.com/github/Parkjaeseong33/python_programming/blob/main/10%EC%A3%BC%EC%B0%A8_HW.ipynb\" target=\"_parent\"><img src=\"https://colab.research.google.com/assets/colab-badge.svg\" alt=\"Open In Colab\"/></a>"
      ]
    },
    {
      "cell_type": "code",
      "execution_count": 2,
      "metadata": {
        "colab": {
          "base_uri": "https://localhost:8080/"
        },
        "id": "CiPOWbO2k0Mv",
        "outputId": "90cdeb76-3c92-4897-c67b-bed5d9616b8b"
      },
      "outputs": [
        {
          "output_type": "stream",
          "name": "stdout",
          "text": [
            "3\n",
            "7\n"
          ]
        }
      ],
      "source": [
        "result = 0\n",
        "def adder(num):\n",
        "  global result\n",
        "  result += num\n",
        "  return result\n",
        "\n",
        "print(adder(3))\n",
        "print(adder(4))\n"
      ]
    },
    {
      "cell_type": "code",
      "source": [
        "In[4]:print(adder(4))"
      ],
      "metadata": {
        "colab": {
          "base_uri": "https://localhost:8080/"
        },
        "id": "rULO9pFTl_Lg",
        "outputId": "abaafb30-988f-4820-f0c7-3537d8e85670"
      },
      "execution_count": 3,
      "outputs": [
        {
          "output_type": "stream",
          "name": "stdout",
          "text": [
            "11\n"
          ]
        }
      ]
    },
    {
      "cell_type": "code",
      "source": [
        "In[5]:print(adder(5))"
      ],
      "metadata": {
        "colab": {
          "base_uri": "https://localhost:8080/"
        },
        "id": "y_pTBvkmmJyW",
        "outputId": "c310f124-8ad5-4900-c90b-445024885e64"
      },
      "execution_count": 4,
      "outputs": [
        {
          "output_type": "stream",
          "name": "stdout",
          "text": [
            "16\n"
          ]
        }
      ]
    },
    {
      "cell_type": "code",
      "source": [
        "result1 = 0\n",
        "result2 = 0\n",
        "\n",
        "def adder1(num):\n",
        "  global result1\n",
        "  result1 += num\n",
        "  return result1\n",
        "\n",
        "def adder2(num):\n",
        "  global result2\n",
        "  result2 += num\n",
        "  return result2\n",
        "\n",
        "print(adder1(3))\n",
        "print(adder1(4))\n",
        "print(adder2(3))\n",
        "print(adder2(7))"
      ],
      "metadata": {
        "colab": {
          "base_uri": "https://localhost:8080/"
        },
        "id": "B-ndFyOZmQ58",
        "outputId": "e4615bed-0a18-471d-b7a7-037ff5f3afec"
      },
      "execution_count": 5,
      "outputs": [
        {
          "output_type": "stream",
          "name": "stdout",
          "text": [
            "3\n",
            "7\n",
            "3\n",
            "10\n"
          ]
        }
      ]
    },
    {
      "cell_type": "code",
      "source": [
        "#Service.secret\n",
        "\"지구는 4006년에 멸망한다\"\n",
        "Service.secret = \"지구가 4006년에 멸망한다는 사실은 뻥이다\"\n",
        "\n",
        "print(an.secret)"
      ],
      "metadata": {
        "id": "FnAlh9DRnPWo"
      },
      "execution_count": null,
      "outputs": []
    },
    {
      "cell_type": "code",
      "source": [
        "class Service:\n",
        "  secret = \"지구는 4006년에 멸망한다\"\n",
        "  def sum(self, a, b):\n",
        "    result = a+b\n",
        "    print(\"%s + %s = $s이다.\" % (a, b, result))\n",
        "\n",
        "an = service()\n",
        "\n",
        "an.sum(1,1)\n",
        "1+1 = 2 이다"
      ],
      "metadata": {
        "id": "-28aMjsMoF1z"
      },
      "execution_count": null,
      "outputs": []
    },
    {
      "cell_type": "code",
      "source": [
        "class Service:\n",
        "  secret = \"지구는 4006년에 명망한다\"\n",
        "  def setname(self, name):\n",
        "    self.name= =name\n",
        "  def sum(self. a, b):\n",
        "    result = a+b\n",
        "    print(\"%s님, %s + %s = %s입니다. \" %(self.name, a, b, result))\n",
        "an = Service()\n",
        "an,setname(\"박달도사\")\n",
        "an.sum(1,1)\n",
        "박달도사님, 1+1 = 2 입니다."
      ],
      "metadata": {
        "id": "C8SYHVY7ozFb"
      },
      "execution_count": null,
      "outputs": []
    },
    {
      "cell_type": "code",
      "source": [
        "kim = service()\n",
        "park = service()\n",
        "kim.name = \"김정보\"\n",
        "park.name = \"박용합\"\n",
        "\n",
        "print(kim.name)\n",
        "\n",
        "kim.secret = \"비밀은없다\"\n",
        "print(park.secret)\n",
        "지구는 멸망한다\n",
        "\n",
        "print(kim,secret)\n",
        " 비밀은 없다\n",
        "\n",
        " service.secret\n",
        " \"지구는 4006년에 멸망한다\"\n"
      ],
      "metadata": {
        "id": "4cGgpWKCrKVO"
      },
      "execution_count": null,
      "outputs": []
    },
    {
      "cell_type": "code",
      "source": [
        "lee = Service()\n",
        "lee.sum(1,1)\n",
        "traceback (most recent call last) :\n",
        " file \"<stdin>\", line 1, in <module>\n",
        " file \"<stdin>\", line7, in sum\n",
        "\n",
        "attributeError : \"Service object has on attribute \"name\"\n"
      ],
      "metadata": {
        "id": "1_pHKX9FsbFC"
      },
      "execution_count": null,
      "outputs": []
    },
    {
      "cell_type": "code",
      "source": [
        "class 클래스이름[(상속 클래스명)]:\n",
        "  <클래스 변수 1>\n",
        "  <클래스 변수 2>\n",
        "\n",
        "  def 메서드1(self[, 인수1, 인수2,,,]):\n",
        "    <수행할 문장 1>\n",
        "    <수행할 문장 2>\n",
        "  \n",
        "  def  메서드2(self[, 인수1, 인수2]):\n",
        "    <수행할 문장 1>\n",
        "    <수행할 문장 2>"
      ],
      "metadata": {
        "id": "EiEjlY7NtKa4"
      },
      "execution_count": null,
      "outputs": []
    },
    {
      "cell_type": "code",
      "source": [
        "class FourCal:\n",
        "  def setdata(self, frist, second):\n",
        "    self.first = first\n",
        "    self.second = second\n",
        "  def sum(self):\n",
        "    result = self.frist + self.second\n",
        "    return result\n",
        "  def mul(self):\n",
        "    result = self.frist * self.second\n",
        "    return result\n",
        "  def sub(self):\n",
        "    result = self.frist - self.second\n",
        "  def div(self):\n",
        "    result = self.frist / self.second\n",
        "    return result\n",
        "\n"
      ],
      "metadata": {
        "id": "lMzWOf0duTY7"
      },
      "execution_count": null,
      "outputs": []
    },
    {
      "cell_type": "code",
      "source": [
        "import random\n",
        "\n",
        "player1_dice = []\n",
        "player2_dice = []\n",
        "\n",
        "for i in range(3):\n",
        "  player1_dice.append(random.randint(1,6))\n",
        "  player2_dice.append(random.randint(1,6))\n",
        "\n",
        "print(\"player1 rolled\" + str(player1_dice))\n",
        "print(\"player2 rolled\" + str(player2_dice))\n",
        "\n",
        "if sum (player1_dice) == sum(player2_dice):\n",
        "  print(\"draw\")\n",
        "\n",
        "elif sum (player1_dice) > sum(player2_dice):\n",
        "  print(\"player 1 wins\")\n",
        "else :\n",
        "   print(\"player 2 wins\")\n",
        "    \n"
      ],
      "metadata": {
        "colab": {
          "base_uri": "https://localhost:8080/"
        },
        "id": "PznMN7GPvnWI",
        "outputId": "e11efa37-1ae2-40e0-f01c-e167cf303edd"
      },
      "execution_count": 21,
      "outputs": [
        {
          "output_type": "stream",
          "name": "stdout",
          "text": [
            "player1 rolled[5, 6, 4]\n",
            "player2 rolled[2, 2, 1]\n",
            "player 1 wins\n"
          ]
        }
      ]
    },
    {
      "cell_type": "code",
      "source": [
        "from random import randint\n",
        "\n",
        "class player:\n",
        "  def __init__(self):\n",
        "    self.dice = [] \n",
        "\n",
        "  def roll(self):\n",
        "    self.dice = []\n",
        "    for i in range(3):\n",
        "      self.dice.append(randint(1,6))\n",
        "\n",
        "  def get_dice(self):\n",
        "    return self.dice\n",
        "\n",
        "player1 = player()\n",
        "player2 = player()\n",
        "\n",
        "player1.roll()\n",
        "player2.roll()\n",
        "\n",
        "print(\"player 1 rolled\" + str(player1.get_dice()))\n",
        "print(\"player 2 rolled\" + str(player2.get_dice()))\n",
        "\n",
        "if sum (player1_dice) == sum(player2_dice):\n",
        "  print(\"draw\")\n",
        "\n",
        "elif sum (player1_dice) > sum(player2_dice):\n",
        "  print(\"player 1 wins\")\n",
        "else :\n",
        "   print(\"player 2 wins\")"
      ],
      "metadata": {
        "colab": {
          "base_uri": "https://localhost:8080/"
        },
        "id": "d38CEKvBw6iB",
        "outputId": "8c4e6550-143b-461d-8375-104b72935970"
      },
      "execution_count": 24,
      "outputs": [
        {
          "output_type": "stream",
          "name": "stdout",
          "text": [
            "player 1 rolled[4, 6, 1]\n",
            "player 2 rolled[1, 1, 3]\n",
            "player 1 wins\n"
          ]
        }
      ]
    }
  ]
}